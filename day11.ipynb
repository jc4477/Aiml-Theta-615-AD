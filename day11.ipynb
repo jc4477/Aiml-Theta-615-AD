{
 "cells": [
  {
   "cell_type": "code",
   "execution_count": 5,
   "metadata": {},
   "outputs": [
    {
     "name": "stdout",
     "output_type": "stream",
     "text": [
      "Original DataFrame\n",
      "   square_feet_area  Year_built  over_all_condition ready_to_move  Sale_price\n",
      "0            8500.0      2004.0                 5.0           yes      200000\n",
      "1            8000.0      2006.0                 4.0           yes      180000\n",
      "2               NaN      2009.0                 6.0           yes      190000\n",
      "3            9000.0      2002.0                 7.0           NaN      160000\n",
      "4            5000.0         NaN                 NaN            no      150000\n",
      "5            7500.0      2000.0                 8.0           yes      185000\n",
      "6            6000.0      2001.0                 6.0           yes      175000\n",
      "7            7000.0      2003.0                 NaN           yes      170000\n",
      "8           10000.0         NaN                 7.0           NaN      195000\n",
      "9            4000.0      2007.0                 4.0           yes      165000\n",
      "\n",
      "DataFrame after filling missing values with mean (for numeric)\n",
      "   square_feet_area  Year_built  over_all_condition ready_to_move  Sale_price\n",
      "0       8500.000000      2004.0               5.000           yes      200000\n",
      "1       8000.000000      2006.0               4.000           yes      180000\n",
      "2       7222.222222      2009.0               6.000           yes      190000\n",
      "3       9000.000000      2002.0               7.000           yes      160000\n",
      "4       5000.000000      2004.0               5.875            no      150000\n",
      "5       7500.000000      2000.0               8.000           yes      185000\n",
      "6       6000.000000      2001.0               6.000           yes      175000\n",
      "7       7000.000000      2003.0               5.875           yes      170000\n",
      "8      10000.000000      2004.0               7.000           yes      195000\n",
      "9       4000.000000      2007.0               4.000           yes      165000\n"
     ]
    },
    {
     "name": "stderr",
     "output_type": "stream",
     "text": [
      "/tmp/ipykernel_18382/490431250.py:16: FutureWarning: A value is trying to be set on a copy of a DataFrame or Series through chained assignment using an inplace method.\n",
      "The behavior will change in pandas 3.0. This inplace method will never work because the intermediate object on which we are setting values always behaves as a copy.\n",
      "\n",
      "For example, when doing 'df[col].method(value, inplace=True)', try using 'df.method({col: value}, inplace=True)' or df[col] = df[col].method(value) instead, to perform the operation inplace on the original object.\n",
      "\n",
      "\n",
      "  df['square_feet_area'].fillna(df['square_feet_area'].mean(), inplace=True)\n",
      "/tmp/ipykernel_18382/490431250.py:17: FutureWarning: A value is trying to be set on a copy of a DataFrame or Series through chained assignment using an inplace method.\n",
      "The behavior will change in pandas 3.0. This inplace method will never work because the intermediate object on which we are setting values always behaves as a copy.\n",
      "\n",
      "For example, when doing 'df[col].method(value, inplace=True)', try using 'df.method({col: value}, inplace=True)' or df[col] = df[col].method(value) instead, to perform the operation inplace on the original object.\n",
      "\n",
      "\n",
      "  df['Year_built'].fillna(df['Year_built'].mean(), inplace=True)\n",
      "/tmp/ipykernel_18382/490431250.py:18: FutureWarning: A value is trying to be set on a copy of a DataFrame or Series through chained assignment using an inplace method.\n",
      "The behavior will change in pandas 3.0. This inplace method will never work because the intermediate object on which we are setting values always behaves as a copy.\n",
      "\n",
      "For example, when doing 'df[col].method(value, inplace=True)', try using 'df.method({col: value}, inplace=True)' or df[col] = df[col].method(value) instead, to perform the operation inplace on the original object.\n",
      "\n",
      "\n",
      "  df['over_all_condition'].fillna(df['over_all_condition'].mean(), inplace=True)\n",
      "/tmp/ipykernel_18382/490431250.py:21: FutureWarning: A value is trying to be set on a copy of a DataFrame or Series through chained assignment using an inplace method.\n",
      "The behavior will change in pandas 3.0. This inplace method will never work because the intermediate object on which we are setting values always behaves as a copy.\n",
      "\n",
      "For example, when doing 'df[col].method(value, inplace=True)', try using 'df.method({col: value}, inplace=True)' or df[col] = df[col].method(value) instead, to perform the operation inplace on the original object.\n",
      "\n",
      "\n",
      "  df['ready_to_move'].fillna(df['ready_to_move'].mode()[0], inplace=True)\n"
     ]
    }
   ],
   "source": [
    "import pandas as pd\n",
    "import numpy as np\n",
    "from sklearn.impute import SimpleImputer\n",
    "\n",
    "data = {\n",
    "    'square_feet_area': [8500, 8000, np.nan, 9000, 5000, 7500, 6000, 7000, 10000, 4000],\n",
    "    'Year_built': [2004, 2006, 2009, 2002, np.nan, 2000, 2001, 2003, np.nan, 2007],\n",
    "    'over_all_condition': [5, 4, 6, 7, np.nan, 8, 6, np.nan, 7, 4],\n",
    "    'ready_to_move': ['yes', 'yes', 'yes', np.nan, 'no', 'yes', 'yes', 'yes', np.nan, 'yes'],\n",
    "    'Sale_price': [200000, 180000, 190000, 160000, 150000, 185000, 175000, 170000, 195000, 165000]\n",
    "}\n",
    "df = pd.DataFrame(data)\n",
    "print(\"Original DataFrame\")\n",
    "print(df)\n",
    "\n",
    "df['square_feet_area'].fillna(df['square_feet_area'].mean(), inplace=True)\n",
    "df['Year_built'].fillna(df['Year_built'].mean(), inplace=True)\n",
    "df['over_all_condition'].fillna(df['over_all_condition'].mean(), inplace=True)\n",
    "\n",
    "\n",
    "df['ready_to_move'].fillna(df['ready_to_move'].mode()[0], inplace=True)  \n",
    "\n",
    "\n",
    "print(\"\\nDataFrame after filling missing values with mean (for numeric)\")\n",
    "print(df)"
   ]
  }
 ],
 "metadata": {
  "kernelspec": {
   "display_name": "Python 3",
   "language": "python",
   "name": "python3"
  },
  "language_info": {
   "codemirror_mode": {
    "name": "ipython",
    "version": 3
   },
   "file_extension": ".py",
   "mimetype": "text/x-python",
   "name": "python",
   "nbconvert_exporter": "python",
   "pygments_lexer": "ipython3",
   "version": "3.12.1"
  }
 },
 "nbformat": 4,
 "nbformat_minor": 2
}
