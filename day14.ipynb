{
 "cells": [
  {
   "cell_type": "code",
   "execution_count": 3,
   "metadata": {},
   "outputs": [
    {
     "name": "stdout",
     "output_type": "stream",
     "text": [
      "Original Dataframe\n",
      "   age  height  weight\n",
      "0   25     150      50\n",
      "1   30     160      60\n",
      "2   35     170      70\n",
      "3   40     180      80\n",
      "4   45     190      90\n",
      "\n",
      "Normalized Dataframe (scaled to range [0, 1]):\n",
      "    age  height  weight\n",
      "0  0.00    0.00    0.00\n",
      "1  0.25    0.25    0.25\n",
      "2  0.50    0.50    0.50\n",
      "3  0.75    0.75    0.75\n",
      "4  1.00    1.00    1.00\n"
     ]
    }
   ],
   "source": [
    "import pandas as pd\n",
    "from sklearn.preprocessing import MinMaxScaler\n",
    "\n",
    "#sample dataset with multiple features\n",
    "\n",
    "data={\n",
    "    \"age\":[25,30,35,40,45],\n",
    "    \"height\":[150,160,170,180,190],\n",
    "    \"weight\":[50,60,70,80,90]\n",
    "}\n",
    "\n",
    "\n",
    "df=pd.DataFrame(data)\n",
    "print(\"Original Dataframe\")\n",
    "\n",
    "print(df)\n",
    "\n",
    "scaler=MinMaxScaler()\n",
    "\n",
    "#normalize the dataset\n",
    "\n",
    "normalized_data=scaler.fit_transform(df)\n",
    "\n",
    "# create a new dataframe with normalized data\n",
    "normalized_df=pd.DataFrame(normalized_data,columns=df.columns)\n",
    "print(\"\\nNormalized Dataframe (scaled to range [0, 1]):\")\n",
    "print(normalized_df)\n"
   ]
  },
  {
   "cell_type": "code",
   "execution_count": 4,
   "metadata": {},
   "outputs": [
    {
     "name": "stdout",
     "output_type": "stream",
     "text": [
      "Original Data: \n",
      "   age  height  weight\n",
      "0   25     150      60\n",
      "1   30     170      70\n",
      "2   35     180      80\n",
      "3   40     160      75\n",
      "4   45     200      90\n",
      "\n",
      "Normalized Data (scaled to range [0, 1]): \n",
      "    age  height    weight\n",
      "0  0.00     0.0  0.000000\n",
      "1  0.25     0.4  0.333333\n",
      "2  0.50     0.6  0.666667\n",
      "3  0.75     0.2  0.500000\n",
      "4  1.00     1.0  1.000000\n",
      "\n",
      "Standardized Data (mean = 0, std = 1): \n",
      "        age    height    weight\n",
      "0 -1.264911 -1.143726 -1.341641\n",
      "1 -0.632456 -0.103975 -0.447214\n",
      "2  0.000000  0.415900  0.447214\n",
      "3  0.632456 -0.623850  0.000000\n",
      "4  1.264911  1.455651  1.341641\n"
     ]
    }
   ],
   "source": [
    "import pandas as pd\n",
    "from sklearn.preprocessing import MinMaxScaler\n",
    "data = {\n",
    "    \"age\": [25, 30, 35, 40, 45],\n",
    "    \"height\": [150, 170, 180, 160, 200],\n",
    "    \"weight\": [60, 70, 80, 75, 90]\n",
    "}\n",
    "df = pd.DataFrame(data)\n",
    "print(\"Original Data: \")\n",
    "print(df)\n",
    "scaler = MinMaxScaler()\n",
    "normalized_data = scaler.fit_transform(df)\n",
    "normalized_df = pd.DataFrame(normalized_data, columns=df.columns)\n",
    "print(\"\\nNormalized Data (scaled to range [0, 1]): \")\n",
    "print(normalized_df)\n",
    "standardized_data = (df - df.mean()) / df.std()\n",
    "standardized_df = pd.DataFrame(standardized_data, columns=df.columns)\n",
    "print(\"\\nStandardized Data (mean = 0, std = 1): \")\n",
    "print(standardized_df)"
   ]
  }
 ],
 "metadata": {
  "kernelspec": {
   "display_name": "Python 3",
   "language": "python",
   "name": "python3"
  },
  "language_info": {
   "codemirror_mode": {
    "name": "ipython",
    "version": 3
   },
   "file_extension": ".py",
   "mimetype": "text/x-python",
   "name": "python",
   "nbconvert_exporter": "python",
   "pygments_lexer": "ipython3",
   "version": "3.12.1"
  }
 },
 "nbformat": 4,
 "nbformat_minor": 2
}
