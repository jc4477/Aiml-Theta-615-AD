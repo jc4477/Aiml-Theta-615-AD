{
 "cells": [
  {
   "cell_type": "code",
   "execution_count": 1,
   "metadata": {},
   "outputs": [
    {
     "name": "stdout",
     "output_type": "stream",
     "text": [
      "Original Data: \n",
      "   customer_id  gender       city  fruits\n",
      "0            1    male  Hyderabad   Mango\n",
      "1            2  female       pune  Orange\n",
      "2            3    male   Banglore   Apple\n",
      "3            4  female     Mumbai  Banana\n"
     ]
    }
   ],
   "source": [
    "import pandas as pd\n",
    "from sklearn.preprocessing import OneHotEncoder\n",
    "data = {\n",
    "    \"customer_id\":[1, 2, 3, 4],\n",
    "    \"gender\": [\"male\", \"female\", \"male\", \"female\"],\n",
    "    \"city\": [\"Hyderabad\", \"pune\", \"Banglore\", \"Mumbai\"],\n",
    "    \"fruits\":[\"Mango\", \"Orange\", \"Apple\", \"Banana\"]\n",
    "}\n",
    "df = pd.DataFrame(data)\n",
    "print(\"Original Data: \")\n",
    "print(df)\n",
    "one_hot_encoder = OneHotEncoder(sparse_output=False)\n",
    "columns_to_encode = [\"gender\", \"city\", \"fruits\"]\n",
    "encoded_data = one_hot_encoder.fit_transform(df[columns_to_encode])\n",
    "encoded_columns = one_hot_encoder.get_feature_names_out(columns_to_encode)\n",
    "encoded_df = pd.DataFrame(encoded_data, columns=encoded_columns)"
   ]
  },
  {
   "cell_type": "code",
   "execution_count": 2,
   "metadata": {},
   "outputs": [
    {
     "name": "stdout",
     "output_type": "stream",
     "text": [
      "Original Data: \n",
      "   customer_id  gender       city  fruits\n",
      "0            1    male  Hyderabad   Mango\n",
      "1            2  female       pune  Orange\n",
      "2            3    male   Banglore   Apple\n",
      "3            4  female     Mumbai  Banana\n",
      "\n",
      "Encoded Data: \n",
      "   customer_id  gender_female  gender_male  city_Banglore  city_Hyderabad  \\\n",
      "0            1            0.0          1.0            0.0             1.0   \n",
      "1            2            1.0          0.0            0.0             0.0   \n",
      "2            3            0.0          1.0            1.0             0.0   \n",
      "3            4            1.0          0.0            0.0             0.0   \n",
      "\n",
      "   city_Mumbai  city_pune  fruits_Apple  fruits_Banana  fruits_Mango  \\\n",
      "0          0.0        0.0           0.0            0.0           1.0   \n",
      "1          0.0        1.0           0.0            0.0           0.0   \n",
      "2          0.0        0.0           1.0            0.0           0.0   \n",
      "3          1.0        0.0           0.0            1.0           0.0   \n",
      "\n",
      "   fruits_Orange  \n",
      "0            0.0  \n",
      "1            1.0  \n",
      "2            0.0  \n",
      "3            0.0  \n"
     ]
    }
   ],
   "source": [
    "import pandas as pd\n",
    "from sklearn.preprocessing import OneHotEncoder\n",
    "data = {\n",
    "    \"customer_id\":[1, 2, 3, 4],\n",
    "    \"gender\": [\"male\", \"female\", \"male\", \"female\"],\n",
    "    \"city\": [\"Hyderabad\", \"pune\", \"Banglore\", \"Mumbai\"],\n",
    "    \"fruits\":[\"Mango\", \"Orange\", \"Apple\", \"Banana\"]\n",
    "}\n",
    "df = pd.DataFrame(data)\n",
    "print(\"Original Data: \")\n",
    "print(df)\n",
    "one_hot_encoder = OneHotEncoder(sparse_output=False)\n",
    "columns_to_encode = [\"gender\", \"city\", \"fruits\"]\n",
    "encoded_data = one_hot_encoder.fit_transform(df[columns_to_encode])\n",
    "encoded_columns = one_hot_encoder.get_feature_names_out(columns_to_encode)\n",
    "encoded_df = pd.DataFrame(encoded_data, columns=encoded_columns)\n",
    "df = pd.concat([df.drop(columns_to_encode, axis=1), encoded_df], axis=1)\n",
    "print(\"\\nEncoded Data: \")\n",
    "print(df)"
   ]
  },
  {
   "cell_type": "code",
   "execution_count": 3,
   "metadata": {},
   "outputs": [
    {
     "name": "stdout",
     "output_type": "stream",
     "text": [
      "The Data is :\n",
      "\n",
      "    Customer_id   Ranks   frutis  Gender\n",
      "0            1   First    apple    Male\n",
      "1            2  Second  bananna  Female\n",
      "2            3   Third   orange    Male\n",
      "3            4  Fourth     kivi  Female\n",
      "\n",
      "The LabeleEncoded Data id :\n",
      " \n",
      "   Customer_id   Ranks   frutis  Gender  encoded_ranks  encoded_frutis\n",
      "0            1   First    apple    Male              0               0\n",
      "1            2  Second  bananna  Female              2               1\n",
      "2            3   Third   orange    Male              3               3\n",
      "3            4  Fourth     kivi  Female              1               2\n",
      "\n"
     ]
    }
   ],
   "source": [
    "#Label Encoder \n",
    "\n",
    "import pandas as pd\n",
    "from sklearn.preprocessing import LabelEncoder\n",
    "from sklearn.preprocessing import OneHotEncoder\n",
    "\n",
    "data ={\n",
    "    \"Customer_id\":[1,2,3,4,],\n",
    "    \"Ranks\":[\"First\",\"Second\",\"Third\",\"Fourth\"],\n",
    "    \"frutis\":[\"apple\",\"bananna\",\"orange\",\"kivi\"],\n",
    "    \"Gender\":[\"Male\",\"Female\",\"Male\",\"Female\"]\n",
    "}\n",
    "\n",
    "df = pd.DataFrame(data)\n",
    "print(f\"The Data is :\\n\\n {df}\\n\")\n",
    "label_encoder = LabelEncoder()\n",
    "df[\"encoded_ranks\"] = label_encoder.fit_transform(df[\"Ranks\"])\n",
    "df[\"encoded_frutis\"] = label_encoder.fit_transform(df[\"frutis\"])\n",
    "print(f\"The LabeleEncoded Data id :\\n \\n{df}\\n\")"
   ]
  }
 ],
 "metadata": {
  "kernelspec": {
   "display_name": "Python 3",
   "language": "python",
   "name": "python3"
  },
  "language_info": {
   "codemirror_mode": {
    "name": "ipython",
    "version": 3
   },
   "file_extension": ".py",
   "mimetype": "text/x-python",
   "name": "python",
   "nbconvert_exporter": "python",
   "pygments_lexer": "ipython3",
   "version": "3.12.1"
  }
 },
 "nbformat": 4,
 "nbformat_minor": 2
}
