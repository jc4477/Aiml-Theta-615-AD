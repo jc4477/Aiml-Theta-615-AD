{
 "cells": [
  {
   "cell_type": "code",
   "execution_count": 1,
   "metadata": {},
   "outputs": [
    {
     "name": "stdout",
     "output_type": "stream",
     "text": [
      "Total cost for producing 100 units is $15000\n"
     ]
    }
   ],
   "source": [
    "# Fixed and variable costs\n",
    "fixed_cost = 10000\n",
    "variable_cost_per_unit = 50\n",
    "\n",
    "# Function to calculate total cost\n",
    "def total_cost(units_produced):\n",
    "    return fixed_cost + (variable_cost_per_unit * units_produced)\n",
    "\n",
    "# Example usage\n",
    "units_produced = 100  # Example number of units produced\n",
    "cost = total_cost(units_produced)\n",
    "print(f\"Total cost for producing {units_produced} units is ${cost}\")"
   ]
  }
 ],
 "metadata": {
  "kernelspec": {
   "display_name": "Python 3",
   "language": "python",
   "name": "python3"
  },
  "language_info": {
   "codemirror_mode": {
    "name": "ipython",
    "version": 3
   },
   "file_extension": ".py",
   "mimetype": "text/x-python",
   "name": "python",
   "nbconvert_exporter": "python",
   "pygments_lexer": "ipython3",
   "version": "3.12.1"
  }
 },
 "nbformat": 4,
 "nbformat_minor": 2
}
