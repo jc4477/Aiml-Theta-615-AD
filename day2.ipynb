{
 "cells": [
  {
   "cell_type": "code",
   "execution_count": 1,
   "metadata": {},
   "outputs": [
    {
     "name": "stdout",
     "output_type": "stream",
     "text": [
      "Student Grades:\n",
      "\n",
      "   Student  Marks Grade\n",
      "0    Alice     85     B\n",
      "1      Bob     78     C\n",
      "2  Charlie     92     A\n",
      "3    David     88     B\n",
      "4      Eva     95     A\n"
     ]
    }
   ],
   "source": [
    "import pandas as pd\n",
    "\n",
    "data = {\n",
    "    'Student': ['Alice', 'Bob', 'Charlie', 'David', 'Eva'],\n",
    "    'Marks': [85, 78, 92, 88, 95]\n",
    "}\n",
    "\n",
    "df = pd.DataFrame(data)\n",
    "\n",
    "def assign_grade(marks):\n",
    "    if marks >= 90:\n",
    "        return 'A'\n",
    "    elif marks >= 80:\n",
    "        return 'B'\n",
    "    elif marks >= 70:\n",
    "        return 'C'\n",
    "    elif marks >= 60:\n",
    "        return 'D'\n",
    "    else:\n",
    "        return 'F'\n",
    "\n",
    "df['Grade'] = df['Marks'].apply(assign_grade)\n",
    "\n",
    "print(\"Student Grades:\\n\")\n",
    "print(df)"
   ]
  },
  {
   "cell_type": "code",
   "execution_count": 2,
   "metadata": {},
   "outputs": [
    {
     "name": "stdout",
     "output_type": "stream",
     "text": [
      "{'screen_time': [2, 3, 4, 7], 'sleep_hours': [4, 7, 10, 11], 'stu_name': ['Jayesh', 'Jc', 'Sunil', 'Tarun']}\n",
      "   screen_time  sleep_hours stu_name\n",
      "0            2            4   Jayesh\n",
      "1            3            7       Jc\n",
      "2            4           10    Sunil\n",
      "3            7           11    Tarun\n"
     ]
    }
   ],
   "source": [
    "import pandas as pd\n",
    "screen_time = [2,3,4,7]\n",
    "sleep_hours = [4,7,10,11]\n",
    "stu_name = [\"Jayesh\",\"Jc\",\"Sunil\",\"Tarun\"]\n",
    "dict1 = {\n",
    "  \"screen_time\":screen_time,\n",
    "  \"sleep_hours\":sleep_hours,\n",
    "  \"stu_name\":stu_name\n",
    "}\n",
    "print(dict1)\n",
    "df = pd.DataFrame(dict1)\n",
    "print(df)\n"
   ]
  }
 ],
 "metadata": {
  "kernelspec": {
   "display_name": "Python 3",
   "language": "python",
   "name": "python3"
  },
  "language_info": {
   "codemirror_mode": {
    "name": "ipython",
    "version": 3
   },
   "file_extension": ".py",
   "mimetype": "text/x-python",
   "name": "python",
   "nbconvert_exporter": "python",
   "pygments_lexer": "ipython3",
   "version": "3.12.1"
  }
 },
 "nbformat": 4,
 "nbformat_minor": 2
}
