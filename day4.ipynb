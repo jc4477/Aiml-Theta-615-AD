{
 "cells": [
  {
   "cell_type": "code",
   "execution_count": 1,
   "metadata": {},
   "outputs": [
    {
     "name": "stdout",
     "output_type": "stream",
     "text": [
      "Do\n",
      "what\n",
      "will\n",
      "do\n"
     ]
    }
   ],
   "source": [
    "string = \"Do what i will do\"\n",
    "for word in string.split():\n",
    "  if len(word)  % 2 == 0:\n",
    "    print(word)"
   ]
  },
  {
   "cell_type": "code",
   "execution_count": 2,
   "metadata": {},
   "outputs": [
    {
     "name": "stdout",
     "output_type": "stream",
     "text": [
      "['Do', 'what', 'i', 'will', 'do']\n",
      "D\n"
     ]
    }
   ],
   "source": [
    "string = \"Do what i will do\"\n",
    "my_list = list(string.split())\n",
    "print(my_list)\n",
    "print(string[0])"
   ]
  },
  {
   "cell_type": "code",
   "execution_count": 3,
   "metadata": {},
   "outputs": [
    {
     "name": "stdout",
     "output_type": "stream",
     "text": [
      "to\n",
      "to\n"
     ]
    }
   ],
   "source": [
    "string = \"welcome to python to lab\"\n",
    "my_list = list(string.split())\n",
    "for i in my_list :\n",
    "  if i == \"to\":\n",
    "    print(i)"
   ]
  }
 ],
 "metadata": {
  "kernelspec": {
   "display_name": "Python 3",
   "language": "python",
   "name": "python3"
  },
  "language_info": {
   "codemirror_mode": {
    "name": "ipython",
    "version": 3
   },
   "file_extension": ".py",
   "mimetype": "text/x-python",
   "name": "python",
   "nbconvert_exporter": "python",
   "pygments_lexer": "ipython3",
   "version": "3.12.1"
  }
 },
 "nbformat": 4,
 "nbformat_minor": 2
}
