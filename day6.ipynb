{
 "cells": [
  {
   "cell_type": "code",
   "execution_count": 1,
   "metadata": {},
   "outputs": [
    {
     "name": "stdout",
     "output_type": "stream",
     "text": [
      "   screen_time  sleep_hours stu_name\n",
      "0            2            4   Jayesh\n",
      "1            3            7       Jc\n",
      "2            4           10    Sunil\n",
      "3            7           11    Tarun\n"
     ]
    }
   ],
   "source": [
    "import pandas as pd\n",
    "screen_time = [2,3,4,7]\n",
    "sleep_hours = [4,7,10,11]\n",
    "stu_name = [\"Jayesh\",\"Jc\",\"Sunil\",\"Tarun\"]\n",
    "dict1 = {\n",
    "  \"screen_time\":screen_time,\n",
    "  \"sleep_hours\":sleep_hours,\n",
    "  \"stu_name\":stu_name\n",
    "}\n",
    "\n",
    "df = pd.DataFrame(dict1)\n",
    "print(df)\n"
   ]
  },
  {
   "cell_type": "code",
   "execution_count": 2,
   "metadata": {},
   "outputs": [
    {
     "data": {
      "text/plain": [
       "(   Customer_id     Product\n",
       " 0            1  Television\n",
       " 1            2          er\n",
       " 2            3     evision\n",
       " 3            4      Televi\n",
       " 4            5      Tesion\n",
       " 5            6        Teln,\n",
       "    Customer_id       State\n",
       " 0            2  California\n",
       " 1            4  California\n",
       " 2            6       Texas\n",
       " 3            8       Texas)"
      ]
     },
     "execution_count": 2,
     "metadata": {},
     "output_type": "execute_result"
    }
   ],
   "source": [
    "dict1 ={ 'Customer_id':[1,2,3,4,5,6],'Product':['Television','er','evision','Televi','Tesion','Teln']}\n",
    "dict2 ={'Customer_id':[2,4,6,8],'State':['California','California','Texas','Texas']}\n",
    "df1=pd.DataFrame(dict1)\n",
    "df2=pd.DataFrame(dict2)\n",
    "df1,df2"
   ]
  },
  {
   "cell_type": "code",
   "execution_count": 3,
   "metadata": {},
   "outputs": [
    {
     "data": {
      "text/plain": [
       "(   Customer_id     Product       State\n",
       " 0            1  Television         NaN\n",
       " 1            2          er  California\n",
       " 2            3     evision         NaN\n",
       " 3            4      Televi  California\n",
       " 4            5      Tesion         NaN\n",
       " 5            6        Teln       Texas\n",
       " 6            8         NaN       Texas,\n",
       "    Customer_id Product       State\n",
       " 0            2      er  California\n",
       " 1            4  Televi  California\n",
       " 2            6    Teln       Texas)"
      ]
     },
     "execution_count": 3,
     "metadata": {},
     "output_type": "execute_result"
    }
   ],
   "source": [
    "inner_join=pd.merge(df1,df2,on='Customer_id',how='inner')\n",
    "outter_join=pd.merge(df1,df2,on='Customer_id',how='outer')\n",
    "outter_join,inner_join"
   ]
  }
 ],
 "metadata": {
  "kernelspec": {
   "display_name": "Python 3",
   "language": "python",
   "name": "python3"
  },
  "language_info": {
   "codemirror_mode": {
    "name": "ipython",
    "version": 3
   },
   "file_extension": ".py",
   "mimetype": "text/x-python",
   "name": "python",
   "nbconvert_exporter": "python",
   "pygments_lexer": "ipython3",
   "version": "3.12.1"
  }
 },
 "nbformat": 4,
 "nbformat_minor": 2
}
