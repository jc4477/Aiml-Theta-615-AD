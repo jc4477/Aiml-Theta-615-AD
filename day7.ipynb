{
 "cells": [
  {
   "cell_type": "code",
   "execution_count": 2,
   "metadata": {},
   "outputs": [
    {
     "name": "stdout",
     "output_type": "stream",
     "text": [
      "0\n",
      "1\n",
      "2\n",
      "3\n",
      "4\n",
      "5\n",
      "5\n",
      "6\n",
      "6\n",
      "7\n",
      "7\n",
      "8\n",
      "8\n",
      "9\n",
      "9\n"
     ]
    }
   ],
   "source": [
    "#generator\n",
    "def square(i):\n",
    "    for i in range(i):\n",
    "        if i>=5:\n",
    "            print(i)\n",
    "        yield i\n",
    "square(10)\n",
    "for i in square(10):\n",
    "    print(i)"
   ]
  },
  {
   "cell_type": "code",
   "execution_count": 7,
   "metadata": {},
   "outputs": [
    {
     "name": "stdout",
     "output_type": "stream",
     "text": [
      "do\n",
      "what\n",
      "to\n"
     ]
    }
   ],
   "source": [
    "string = \"do what i say to the world\"\n",
    "\n",
    "for word in string.split():\n",
    "    if  len(word) % 2==0:\n",
    "        print(word)\n",
    "\n"
   ]
  },
  {
   "cell_type": "code",
   "execution_count": 9,
   "metadata": {},
   "outputs": [
    {
     "name": "stdout",
     "output_type": "stream",
     "text": [
      "w\n",
      "w\n"
     ]
    }
   ],
   "source": [
    "\n",
    "#find the length of the string if the length of the string is more than 3 print the first letter of the word output:W\n",
    "\n",
    "string = \"do what i say to the world\"\n",
    "\n",
    "for i in string.split():\n",
    "    if len(i)>3:\n",
    "        print(i[0])"
   ]
  },
  {
   "cell_type": "code",
   "execution_count": 10,
   "metadata": {},
   "outputs": [
    {
     "name": "stdout",
     "output_type": "stream",
     "text": [
      "w\n",
      "w\n"
     ]
    }
   ],
   "source": [
    "#more than 3 print the first letter of the word output:W\n",
    "\n",
    "string = \"do what i say to the world\"\n",
    "\n",
    "for i in string.split():\n",
    "    if len(i)>3:\n",
    "        print(i[0])\n",
    "        "
   ]
  },
  {
   "cell_type": "code",
   "execution_count": 11,
   "metadata": {},
   "outputs": [
    {
     "name": "stdout",
     "output_type": "stream",
     "text": [
      "d\n",
      "w\n",
      "i\n",
      "s\n",
      "t\n",
      "t\n",
      "w\n",
      "['do', 'what', 'i', 'say', 'to', 'the', 'world']\n"
     ]
    }
   ],
   "source": [
    "#convert the string to list & first letter of string\n",
    "string = \"do what i say to the world\"\n",
    "list1 = []\n",
    "for i in string.split():\n",
    "    list1.append(i)\n",
    "    print(i[0])\n",
    "print(list1)\n",
    "\n"
   ]
  },
  {
   "cell_type": "code",
   "execution_count": null,
   "metadata": {},
   "outputs": [],
   "source": []
  }
 ],
 "metadata": {
  "kernelspec": {
   "display_name": "Python 3",
   "language": "python",
   "name": "python3"
  },
  "language_info": {
   "codemirror_mode": {
    "name": "ipython",
    "version": 3
   },
   "file_extension": ".py",
   "mimetype": "text/x-python",
   "name": "python",
   "nbconvert_exporter": "python",
   "pygments_lexer": "ipython3",
   "version": "3.12.1"
  }
 },
 "nbformat": 4,
 "nbformat_minor": 2
}
