{
 "cells": [
  {
   "cell_type": "code",
   "execution_count": 1,
   "metadata": {},
   "outputs": [
    {
     "name": "stdout",
     "output_type": "stream",
     "text": [
      "[[[ 1  2  3]\n",
      "  [ 4  5  6]]\n",
      "\n",
      " [[ 7  8  9]\n",
      "  [10 11 12]]]\n",
      "12\n"
     ]
    }
   ],
   "source": [
    "import numpy as np\n",
    "\n",
    "arr = np.array([[[1, 2, 3], [4,5,6]], [[7, 8, 9],[10, 11, 12]]])\n",
    "\n",
    "print(arr)\n",
    "print(arr[1, 1, 2])"
   ]
  },
  {
   "cell_type": "code",
   "execution_count": 2,
   "metadata": {},
   "outputs": [
    {
     "name": "stdout",
     "output_type": "stream",
     "text": [
      "[[[ 7  8  9]\n",
      "  [10 11 12]]]\n"
     ]
    }
   ],
   "source": [
    "import numpy as np\n",
    "\n",
    "arr = np.array([[[1, 2, 3], [4,5,6]], [[7, 8, 9],[10, 11, 12]]])\n",
    "\n",
    "print(arr[1:5:2])"
   ]
  },
  {
   "cell_type": "code",
   "execution_count": 3,
   "metadata": {},
   "outputs": [
    {
     "name": "stdout",
     "output_type": "stream",
     "text": [
      "Filtered Patient Information:\n",
      "    patient Name  Age\n",
      "0       John Doe    5\n",
      "2  Alice Johnson    3\n",
      "\n",
      "Merged Dataframe:\n",
      "    patient Name  Age Date of appointment  Patient id drag name  quantity  \\\n",
      "0       John Doe    5          2023-10-01           1    Drug A        10   \n",
      "1     Jane Smith   10          2023-10-02           2    Drug B        20   \n",
      "2  Alice Johnson    3          2023-10-03           3    Drug C        30   \n",
      "\n",
      "   patient_id  \n",
      "0           1  \n",
      "1           2  \n",
      "2           3  \n"
     ]
    }
   ],
   "source": [
    "\n",
    "import pandas as pd\n",
    "\n",
    "patient_info = pd.DataFrame({\n",
    "    'patient Name': ['John Doe', 'Jane Smith', 'Alice Johnson'],\n",
    "    'Age': [5, 10, 3],\n",
    "    'Date of appointment': ['2023-10-01', '2023-10-02', '2023-10-03'],\n",
    "    'Patient id': [1, 2, 3]\n",
    "})\n",
    "\n",
    "\n",
    "drag_quantity = pd.DataFrame({\n",
    "    'drag name': ['Drug A', 'Drug B', 'Drug C'],\n",
    "    'quantity': [10, 20, 30],\n",
    "    'patient_id': [1, 2, 3]\n",
    "})\n",
    "\n",
    "\n",
    "filtered_patient_info = patient_info[patient_info['Age'] < 6][['patient Name', 'Age']]\n",
    "\n",
    "\n",
    "merged_df = pd.merge(patient_info, drag_quantity, left_on='Patient id', right_on='patient_id', how='inner')\n",
    "\n",
    "print(\"Filtered Patient Information:\")\n",
    "print(filtered_patient_info)\n",
    "print(\"\\nMerged Dataframe:\")\n",
    "print(merged_df)"
   ]
  }
 ],
 "metadata": {
  "kernelspec": {
   "display_name": "Python 3",
   "language": "python",
   "name": "python3"
  },
  "language_info": {
   "codemirror_mode": {
    "name": "ipython",
    "version": 3
   },
   "file_extension": ".py",
   "mimetype": "text/x-python",
   "name": "python",
   "nbconvert_exporter": "python",
   "pygments_lexer": "ipython3",
   "version": "3.12.1"
  }
 },
 "nbformat": 4,
 "nbformat_minor": 2
}
